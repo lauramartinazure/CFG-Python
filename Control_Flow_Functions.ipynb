{
  "cells": [
    {
      "cell_type": "markdown",
      "metadata": {
        "id": "Jwn4SIo-1v7r"
      },
      "source": [
        "## Session 3 - Starting to Look at Challenge Material\n",
        "* functions in Python\n",
        "* lambda functions in Python\n",
        "* ascii\n",
        "* convert data to hexadecimal\n",
        "* convert data to binary\n",
        "* convert data from hexadecimal\n",
        "* convert data from binary\n",
        "* packing and unpacking data"
      ]
    },
    {
      "cell_type": "code",
      "execution_count": null,
      "metadata": {
        "id": "mQte54m01v7u",
        "outputId": "299c6c0f-fc40-4a1d-97d6-657d3d243222"
      },
      "outputs": [
        {
          "ename": "TypeError",
          "evalue": "unsupported operand type(s) for +: 'int' and 'str'",
          "output_type": "error",
          "traceback": [
            "\u001b[0;31m---------------------------------------------------------------------------\u001b[0m",
            "\u001b[0;31mTypeError\u001b[0m                                 Traceback (most recent call last)",
            "Cell \u001b[0;32mIn[14], line 9\u001b[0m\n\u001b[1;32m      6\u001b[0m     \u001b[39mreturn\u001b[39;00m result  \u001b[39m# Return the result of the addition.\u001b[39;00m\n\u001b[1;32m      8\u001b[0m \u001b[39m# This calls (uses)) the 'add_numbers' function and stores the result in a variable.\u001b[39;00m\n\u001b[0;32m----> 9\u001b[0m sum_result \u001b[39m=\u001b[39m add_numbers(\u001b[39m7\u001b[39;49m, \u001b[39m'\u001b[39;49m\u001b[39mcat\u001b[39;49m\u001b[39m'\u001b[39;49m)\n\u001b[1;32m     10\u001b[0m \u001b[39mprint\u001b[39m(sum_result)\n",
            "Cell \u001b[0;32mIn[14], line 5\u001b[0m, in \u001b[0;36madd_numbers\u001b[0;34m(a, b)\u001b[0m\n\u001b[1;32m      4\u001b[0m \u001b[39mdef\u001b[39;00m \u001b[39madd_numbers\u001b[39m(a, b):\n\u001b[0;32m----> 5\u001b[0m     result \u001b[39m=\u001b[39m a \u001b[39m+\u001b[39;49m b  \u001b[39m# Calculate the sum of 'a' and 'b'.\u001b[39;00m\n\u001b[1;32m      6\u001b[0m     \u001b[39mreturn\u001b[39;00m result\n",
            "\u001b[0;31mTypeError\u001b[0m: unsupported operand type(s) for +: 'int' and 'str'"
          ]
        }
      ],
      "source": [
        "# Define a simple function using 'def' that adds two numbers and returns the result.\n",
        "\n",
        "# This creates the function\n",
        "def add_numbers(a, b):\n",
        "    result = a + b  # Calculate the sum of 'a' and 'b'.\n",
        "    return result  # Return the result of the addition.\n",
        "\n",
        "# This calls (uses)) the 'add_numbers' function and stores the result in a variable.\n",
        "sum_result = add_numbers(7, 'cat')\n",
        "print(sum_result)"
      ]
    },
    {
      "cell_type": "code",
      "execution_count": null,
      "metadata": {
        "id": "9rzEs3of1v7w",
        "outputId": "f506f20f-2361-4abf-bbea-04246c3ea3f1"
      },
      "outputs": [
        {
          "name": "stdout",
          "output_type": "stream",
          "text": [
            "Length of the string: 13\n",
            "Uppercase string: HELLO, WORLD!\n"
          ]
        }
      ],
      "source": [
        "# Functions are really flexible\n",
        "\n",
        "# e.g. string operation function\n",
        "\n",
        "def string_operation(input_string):\n",
        "    # Calculate the length of the input string.\n",
        "    length = len(input_string)\n",
        "\n",
        "    # Convert the input string to uppercase.\n",
        "    uppercase_string = input_string.upper()\n",
        "\n",
        "    # Return both the length and the uppercase string.\n",
        "    return length, uppercase_string\n",
        "\n",
        "# Example usage:\n",
        "input_text = \"Hello, World!\"\n",
        "result_length, result_uppercase = string_operation(input_text)\n",
        "print(\"Length of the string:\", result_length)\n",
        "print(\"Uppercase string:\", result_uppercase)\n"
      ]
    },
    {
      "cell_type": "code",
      "execution_count": null,
      "metadata": {
        "id": "BoQLzceJ1v7x",
        "outputId": "2f51ac9b-84b0-4995-8dbf-4d583e5425b3"
      },
      "outputs": [
        {
          "data": {
            "image/png": "[encoded data removed]",
            "text/plain": [
              "<Figure size 640x480 with 1 Axes>"
            ]
          },
          "metadata": {},
          "output_type": "display_data"
        }
      ],
      "source": [
        "# Note to students - you may have to install matplotlib via the command line (windows) or terminal (mac).\n",
        "\n",
        "# Mac: pip3 install matplotlib or pip install matplotlib\n",
        "\n",
        "\n",
        "# Windows: pip install matplotlib\n",
        "\n",
        "# importing the package\n",
        "import matplotlib.pyplot as plt\n",
        "\n",
        "# defining the function\n",
        "def create_bar_chart(data):\n",
        "    # Extract labels and values from the data dictionary.\n",
        "    labels = list(data.keys())\n",
        "    values = list(data.values())\n",
        "\n",
        "    # Create a bar chart.\n",
        "    plt.bar(labels, values)\n",
        "\n",
        "    # Add labels and a title.\n",
        "    plt.xlabel(\"Categories\")\n",
        "    plt.ylabel(\"Values\")\n",
        "    plt.title(\"Simple Bar Chart\")\n",
        "\n",
        "    # Show the chart.\n",
        "    plt.show()\n",
        "\n",
        "# Example usage:\n",
        "sample_data = {\"Category 1\": 15, \"Category 2\": 12, \"Category 3\": 2}\n",
        "create_bar_chart(sample_data)\n"
      ]
    },
    {
      "cell_type": "code",
      "execution_count": null,
      "metadata": {
        "id": "jAzI3jPy1v7y",
        "outputId": "3f02dbe8-2a69-4ea5-e6cd-ed6da9a3136b"
      },
      "outputs": [
        {
          "name": "stdout",
          "output_type": "stream",
          "text": [
            "24\n"
          ]
        }
      ],
      "source": [
        "# Lambda functions (sometimes called 'anonymous functions')\n",
        "\n",
        "# Define a lambda function that multiplies two numbers and immediately use it.\n",
        "multiply_lambda = lambda x, y: x * y  # The lambda function takes two arguments 'x' and 'y' and returns their product.\n",
        "\n",
        "# Call the lambda function and store the result in a variable.\n",
        "product_result = multiply_lambda(4, 6)\n",
        "\n",
        "print(product_result)"
      ]
    },
    {
      "cell_type": "code",
      "execution_count": null,
      "metadata": {
        "id": "n8El6qAi1v7y",
        "outputId": "d4c96b6f-24ca-4097-a558-cb5730d8f4dd"
      },
      "outputs": [
        {
          "name": "stdout",
          "output_type": "stream",
          "text": [
            "10\n"
          ]
        }
      ],
      "source": [
        "# Lambda functions (sometimes called 'anonymous functions')\n",
        "\n",
        "# Define a lambda function that multiplies two numbers and immediately use it.\n",
        "add_lambda = lambda x, y: x + y  # The lambda function takes two arguments 'x' and 'y' and returns their product.\n",
        "\n",
        "# Call the lambda function and store the result in a variable.\n",
        "addition_result = add_lambda(4, 6)\n",
        "\n",
        "print(addition_result)\n"
      ]
    },
    {
      "cell_type": "code",
      "execution_count": null,
      "metadata": {
        "id": "O6ATQBeC1v7z",
        "outputId": "6dbb1f6a-a3da-4105-e8f7-85a815eb3743"
      },
      "outputs": [
        {
          "name": "stdout",
          "output_type": "stream",
          "text": [
            "ASCII representation: [72, 101, 108, 108, 111, 44, 32, 65, 83, 67, 73, 73, 33]\n"
          ]
        }
      ],
      "source": [
        "# Converting from a text string to ASCII numbers\n",
        "\n",
        "# Input string\n",
        "input_string = \"Hello, ASCII!\"\n",
        "\n",
        "# Convert the string to ASCII\n",
        "\n",
        "ascii_representation = []\n",
        "\n",
        "for char in input_string:\n",
        "    ascii_representation_entry = ord(char)\n",
        "    ascii_representation.append(ascii_representation_entry)\n",
        "\n",
        "# Print the ASCII representation\n",
        "print(\"ASCII representation:\", ascii_representation)\n"
      ]
    },
    {
      "cell_type": "code",
      "execution_count": null,
      "metadata": {
        "id": "-lmV4trU1v7z",
        "outputId": "3bda728c-7f17-4cc3-9e78-b0771b4a9bef"
      },
      "outputs": [
        {
          "name": "stdout",
          "output_type": "stream",
          "text": [
            "Text: Hello, ASCII!\n"
          ]
        }
      ],
      "source": [
        "#Convert from ASCII back to human-readable text\n",
        "\n",
        "text = ''\n",
        "\n",
        "for ascii_value in ascii_representation:\n",
        "    text = text + chr(ascii_value)\n",
        "\n",
        "# Print the resulting text\n",
        "print(\"Text:\", text)"
      ]
    },
    {
      "cell_type": "code",
      "execution_count": null,
      "metadata": {
        "id": "raMw2xEs1v7z",
        "outputId": "efa3c14b-9226-487a-ff48-297c8fd21192"
      },
      "outputs": [
        {
          "name": "stdout",
          "output_type": "stream",
          "text": [
            "Original Data: Hello, World!\n",
            "Data in Hexadecimal: 48656c6c6f2c20576f726c6421\n"
          ]
        }
      ],
      "source": [
        "# converting data to hexadecimal format\n",
        "\n",
        "def data_to_hex(data):\n",
        "    if isinstance(data, str): # this is for text\n",
        "        return data.encode().hex()\n",
        "    elif isinstance(data, int): # this is for integers\n",
        "        return hex(data)\n",
        "    else:\n",
        "        raise ValueError(\"Unsupported data type\")\n",
        "\n",
        "\n",
        "# Example usage:\n",
        "input_data = \"Hello, World!\"\n",
        "hex_data = data_to_hex(input_data)\n",
        "print(f\"Original Data: {input_data}\")\n",
        "print(f\"Data in Hexadecimal: {hex_data}\")"
      ]
    },
    {
      "cell_type": "code",
      "execution_count": null,
      "metadata": {
        "id": "RDKAJIbg1v70",
        "outputId": "befcffde-ced7-433f-cfbd-77a3903570bc"
      },
      "outputs": [
        {
          "name": "stdout",
          "output_type": "stream",
          "text": [
            "Re-converted data: Hello, World!\n"
          ]
        }
      ],
      "source": [
        "# converting hex data to string\n",
        "\n",
        "def hex_to_data(hex_string):\n",
        "    try:\n",
        "        return bytes.fromhex(hex_string).decode()  # Try to decode as a string\n",
        "    except UnicodeDecodeError:\n",
        "        return int(hex_string, 16)  # If decoding fails, convert to int\n",
        "\n",
        "converted_data = hex_to_data(hex_data)\n",
        "print(f\"Re-converted data: {converted_data}\")\n"
      ]
    },
    {
      "cell_type": "code",
      "execution_count": null,
      "metadata": {
        "id": "VHjKqVno1v70",
        "outputId": "d81cb659-899d-4872-881f-23c75a6f7afa"
      },
      "outputs": [
        {
          "name": "stdout",
          "output_type": "stream",
          "text": [
            "Binary string: 0100100001100101011011000110110001101111001011000010000001000010011010010110111001100001011100100111100100100001\n",
            "Binary int8: 00111111\n",
            "Binary float32: 10001111110000101100010101000000\n"
          ]
        }
      ],
      "source": [
        "## Binary conversion using struct.pack()\n",
        "\n",
        "import struct\n",
        "\n",
        "# Function to convert bytes to binary string\n",
        "def bytes_to_binary_string(byte_data):\n",
        "    return ''.join(format(byte, '08b') for byte in byte_data)\n",
        "\n",
        "# Convert a string to binary - note that utf-8 is the standard encoding format\n",
        "string_to_convert = \"Hello, Binary!\"\n",
        "binary_string = string_to_convert.encode(\"utf-8\")\n",
        "\n",
        "# Convert an int8 to binary format\n",
        "# 'b' is the shorthand for integer\n",
        "int8_to_convert = 63\n",
        "binary_int8 = struct.pack(\"b\", int8_to_convert)\n",
        "\n",
        "# Convert a float32 to binary\n",
        "# 'f' is the shorthand for floats\n",
        "float32_to_convert = 6.18\n",
        "binary_float32 = struct.pack(\"f\", float32_to_convert)\n",
        "\n",
        "# Convert binary data to binary strings using the function\n",
        "binary_string_str = bytes_to_binary_string(binary_string)\n",
        "binary_int8_str = bytes_to_binary_string(binary_int8)\n",
        "binary_float32_str = bytes_to_binary_string(binary_float32)\n",
        "\n",
        "# Print the binary representations as 1s and 0s\n",
        "print(\"Binary string:\", binary_string_str)\n",
        "print(\"Binary int8:\", binary_int8_str)\n",
        "print(\"Binary float32:\", binary_float32_str)\n"
      ]
    },
    {
      "cell_type": "code",
      "execution_count": null,
      "metadata": {
        "id": "ZPK3Mdv_1v71"
      },
      "outputs": [],
      "source": [
        "# packing data into binary format\n",
        "\n",
        "import struct\n",
        "\n",
        "int_value = int(65536)\n",
        "float_value = float(3.1415927)\n",
        "boolean_true = True\n",
        "boolean_false = False\n",
        "\n",
        "# we are going to ‘pack’ data into a binary format using the Python struct.pack() method.\n",
        "# struct.pack() takes two arguments - a string indicating the data to be packed, and the data itself\n",
        "# i = integer (32 bit)\n",
        "# 'b' = integer 8 bits\n",
        "# f = float (32 bit)\n",
        "# c = character\n",
        "# s = string\n",
        "# ? = Boolean (stored as a 1 or a 0)\n",
        "\n",
        "my_packed_data = struct.pack('if??', int_value, float_value, boolean_true, boolean_false)"
      ]
    },
    {
      "cell_type": "code",
      "execution_count": null,
      "metadata": {
        "id": "QuZx3Xat1v71"
      },
      "outputs": [],
      "source": [
        "# writing the file in binary format\n",
        "\n",
        "with open(\"my_packed_data.bin\", \"wb\") as file:\n",
        "    file.write(my_packed_data)"
      ]
    },
    {
      "cell_type": "code",
      "execution_count": null,
      "metadata": {
        "id": "qmX-_8HW1v72"
      },
      "outputs": [],
      "source": [
        "# reading the binary file\n",
        "\n",
        "with open(\"my_packed_data.bin\", \"rb\") as file:\n",
        "    # Read the binary data from the file\n",
        "    binary_data = file.read()\n",
        "\n",
        "\n",
        "# Unpack the binary data to retrieve the original values\n",
        "unpacked_data = struct.unpack('if??', binary_data)\n",
        "\n",
        "# The unpacked_data variable now contains the original values\n",
        "int_value_read, float_value_read, boolean_true_read, boolean_false_read = unpacked_data\n",
        "\n",
        "print(\"Integer:\", int_value_read)\n",
        "print(\"Float:\", float_value_read)\n",
        "print(\"Boolean (True):\", boolean_true_read)\n",
        "print(\"Boolean (False):\", boolean_false_read)"
      ]
    },
    {
      "cell_type": "code",
      "execution_count": null,
      "metadata": {
        "id": "5tEZsRBY1v72"
      },
      "outputs": [],
      "source": [
        "int_values = [1, 4, 16, 64]\n",
        "\n",
        "float_values = [1, 0.5, 0.25, 0.125]\n",
        "\n",
        "packed_data = struct.pack('4i4f', *int_values, *float_values)\n",
        "\n",
        "with open (\"packed_lists.bin\", \"wb\") as file:\n",
        "    file.write(packed_data)"
      ]
    },
    {
      "cell_type": "code",
      "execution_count": null,
      "metadata": {
        "id": "pKEsR6rP1v72"
      },
      "outputs": [],
      "source": [
        "# reading the binary file\n",
        "\n",
        "with open(\"packed_lists.bin\", \"rb\") as file:\n",
        "    # Read the binary data from the file\n",
        "    binary_data = file.read()\n",
        "\n",
        "# Unpack the binary data to retrieve the original values\n",
        "unpacked_data = struct.unpack('4i4f', binary_data)\n",
        "\n",
        "# The unpacked_data variable now contains the original values\n",
        "print(unpacked_data)"
      ]
    }
  ],
  "metadata": {
    "kernelspec": {
      "display_name": "Python 3",
      "language": "python",
      "name": "python3"
    },
    "language_info": {
      "codemirror_mode": {
        "name": "ipython",
        "version": 3
      },
      "file_extension": ".py",
      "mimetype": "text/x-python",
      "name": "python",
      "nbconvert_exporter": "python",
      "pygments_lexer": "ipython3",
      "version": "3.11.5"
    },
    "orig_nbformat": 4,
    "colab": {
      "provenance": []
    }
  },
  "nbformat": 4,
  "nbformat_minor": 0
}