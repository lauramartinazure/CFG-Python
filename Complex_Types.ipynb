{
  "cells": [
    {
      "cell_type": "markdown",
      "metadata": {
        "id": "x8czwf9Q1pP0"
      },
      "source": [
        "## Session 2 Notebook\n",
        "* assigning values\n",
        "* comparing values\n",
        "* logical operators\n",
        "* lists\n",
        "* dictionaries\n",
        "* tuples\n",
        "* sets\n",
        "* if/else\n",
        "* for loops\n",
        "* while loops"
      ]
    },
    {
      "cell_type": "code",
      "execution_count": null,
      "metadata": {
        "id": "S7Fc2fD51pP5",
        "outputId": "1fde7dbc-4367-4955-c972-cbee2bf94492"
      },
      "outputs": [
        {
          "name": "stdout",
          "output_type": "stream",
          "text": [
            "After adding 5: 15\n",
            "After subtracting 3: 7\n"
          ]
        }
      ],
      "source": [
        "## Assigning values\n",
        "\n",
        "# Initialize a variable\n",
        "number = 10\n",
        "\n",
        "# Using += to add a value to the variable\n",
        "number += 5  # Equivalent to number = number + 5\n",
        "\n",
        "# Print the updated value\n",
        "print(\"After adding 5:\", number)  # Output: After adding 5: 15\n",
        "\n",
        "# Using -= to subtract a value from the variable\n",
        "number -= 3  # Equivalent to number = number - 3\n",
        "\n",
        "# Print the updated value\n",
        "print(\"After subtracting 3:\", number)  # Output: After subtracting 3: 12\n"
      ]
    },
    {
      "cell_type": "code",
      "execution_count": null,
      "metadata": {
        "id": "i5VJrVUy1pP8",
        "outputId": "6e2cd6f8-1d07-417c-ddcf-7264721687e8"
      },
      "outputs": [
        {
          "name": "stdout",
          "output_type": "stream",
          "text": [
            "a is equal to b: False\n",
            "a is not equal to b: True\n",
            "a is greater than b: False\n",
            "a is less than or equal to b: True\n",
            "a is greater than or equal to b: False\n"
          ]
        }
      ],
      "source": [
        "## Operators\n",
        "\n",
        "# Initialize two variables\n",
        "a = 10\n",
        "b = 20\n",
        "\n",
        "# Compare if a is equal to b\n",
        "print(\"a is equal to b:\", a == b)\n",
        "\n",
        "# Compare if a is not equal to b\n",
        "print(\"a is not equal to b:\", a != b)\n",
        "\n",
        "# Compare if a is greater than b\n",
        "print(\"a is greater than b:\", a > b)\n",
        "\n",
        "# Compare if a is less than or equal to b\n",
        "print(\"a is less than or equal to b:\", a <= b)\n",
        "\n",
        "# Compare if a is greater than or equal to b\n",
        "print(\"a is greater than or equal to b:\", a >= b)\n"
      ]
    },
    {
      "cell_type": "code",
      "execution_count": null,
      "metadata": {
        "id": "qwz5ikSd1pP8",
        "outputId": "622082ff-162d-498d-d6fe-064f950f7729"
      },
      "outputs": [
        {
          "name": "stdout",
          "output_type": "stream",
          "text": [
            "a and b: False\n",
            "a or b: True\n",
            "a xor b: True\n"
          ]
        }
      ],
      "source": [
        "## Logical operators\n",
        "\n",
        "# Initialize two variables\n",
        "a = True\n",
        "b = False\n",
        "\n",
        "# Logical AND - both must be 'true'\n",
        "result_and = a and b\n",
        "print(\"a and b:\", result_and)  # Output: a and b: False\n",
        "\n",
        "# Logical OR - one must be 'true'\n",
        "result_or = a or b  # a or b OR a AND b\n",
        "print(\"a or b:\", result_or)    # Output: a or b: True\n",
        "\n",
        "# Logical XOR (exclusive or) - ONLY one must be 'true'\n",
        "result_xor = a ^ b\n",
        "print(\"a xor b:\", result_xor)  # Output: a xor b: True\n"
      ]
    },
    {
      "cell_type": "code",
      "execution_count": null,
      "metadata": {
        "id": "6d-ZRJlO1pP9",
        "outputId": "6518c616-204b-448e-928f-656d38dfd78c"
      },
      "outputs": [
        {
          "name": "stdout",
          "output_type": "stream",
          "text": [
            "[1, 2, 3, 4, 5, 6, 7, 8, 9]\n",
            "['anna', 'ben', 'charlie', 'david', 'ellie']\n"
          ]
        }
      ],
      "source": [
        "#lists\n",
        "\n",
        "my_list = [1,2,3,4,5,6,7,8,9]\n",
        "\n",
        "my_string_list = ['anna', 'ben', 'charlie', 'david', 'ellie']\n",
        "\n",
        "print(my_list)\n",
        "print(my_string_list)"
      ]
    },
    {
      "cell_type": "code",
      "execution_count": null,
      "metadata": {
        "id": "Z9htZuAO1pP-"
      },
      "outputs": [],
      "source": [
        "my_list = [1,2,3,4,5,6,7,8,9]\n",
        "\n",
        "my_list.append(10)"
      ]
    },
    {
      "cell_type": "code",
      "execution_count": null,
      "metadata": {
        "id": "QPciDYc91pP-",
        "outputId": "e5b6b47a-dff2-47ab-e69c-c906972e36c2"
      },
      "outputs": [
        {
          "name": "stdout",
          "output_type": "stream",
          "text": [
            "[1, 2, 3, 4, 5, 6, 7, 8, 9, '10', '10']\n",
            "['anna', 'ben', 'charlie', 'david', 'ellie', 'fred', 'fred']\n"
          ]
        }
      ],
      "source": [
        "# add something to the end of a list\n",
        "\n",
        "# the append method\n",
        "my_list.append('10')\n",
        "\n",
        "my_string_list.append('fred')\n",
        "\n",
        "print(my_list)\n",
        "\n",
        "#note what happens if you forget to reassign to the variable name!\n",
        "print(my_string_list)"
      ]
    },
    {
      "cell_type": "code",
      "execution_count": null,
      "metadata": {
        "id": "nVMa7PSh1pP-",
        "outputId": "87460f61-d387-4ae0-a2dd-9be00ee67d25"
      },
      "outputs": [
        {
          "name": "stdout",
          "output_type": "stream",
          "text": [
            "anna\n",
            "david\n"
          ]
        },
        {
          "ename": "IndexError",
          "evalue": "list index out of range",
          "output_type": "error",
          "traceback": [
            "\u001b[0;31m---------------------------------------------------------------------------\u001b[0m",
            "\u001b[0;31mIndexError\u001b[0m                                Traceback (most recent call last)",
            "Cell \u001b[0;32mIn[15], line 9\u001b[0m\n\u001b[1;32m      6\u001b[0m \u001b[39mprint\u001b[39m(my_string_list[\u001b[39m3\u001b[39m])\n\u001b[1;32m      8\u001b[0m \u001b[39m# if you go outside of the range, this happens\u001b[39;00m\n\u001b[0;32m----> 9\u001b[0m \u001b[39mprint\u001b[39m(my_string_list[\u001b[39m15\u001b[39;49m])\n",
            "\u001b[0;31mIndexError\u001b[0m: list index out of range"
          ]
        }
      ],
      "source": [
        "# access a particular entry of a list\n",
        "\n",
        "# 0 indexing applies to python\n",
        "print(my_string_list[0])\n",
        "\n",
        "print(my_string_list[3])\n",
        "\n",
        "# if you go outside of the range, this happens\n",
        "print(my_string_list[15])"
      ]
    },
    {
      "cell_type": "code",
      "execution_count": null,
      "metadata": {
        "id": "bkuvgNgG1pP_",
        "outputId": "1c790efd-baf4-4e95-9663-1d342e9503e5"
      },
      "outputs": [
        {
          "name": "stdout",
          "output_type": "stream",
          "text": [
            "dict_keys(['name', 'age', 'occupation'])\n",
            "dict_values(['anna', 29, 'software development'])\n",
            "dict_items([('name', 'anna'), ('age', 29), ('occupation', 'software development')])\n"
          ]
        }
      ],
      "source": [
        "my_dict = {'name': 'anna', 'age': 29, 'occupation': 'software development'}\n",
        "\n",
        "# key: value structure can be accessed\n",
        "# keys() and values() provide one half of tue key:value pair, items() provides both\n",
        "\n",
        "print(my_dict.keys())\n",
        "print(my_dict.values())\n",
        "print(my_dict.items())\n"
      ]
    },
    {
      "cell_type": "code",
      "execution_count": null,
      "metadata": {
        "id": "HRN83bkd1pP_",
        "outputId": "3181a46e-eba0-4da4-b1ec-d63c32b5dec6"
      },
      "outputs": [
        {
          "name": "stdout",
          "output_type": "stream",
          "text": [
            "{'name': 'anna', 'age': 29, 'occupation': 'software development', 'hobbies': 'sewing', 'hobbies2': 'running'}\n"
          ]
        }
      ],
      "source": [
        "# adding entries to a dictionary is slightly different to lists\n",
        "\n",
        "my_dict['hobbies2'] = 'running'\n",
        "\n",
        "print(my_dict)"
      ]
    },
    {
      "cell_type": "code",
      "execution_count": null,
      "metadata": {
        "id": "41tmxH4B1pQA",
        "outputId": "7793deb2-b74c-4009-d34e-5c860350bf1f"
      },
      "outputs": [
        {
          "name": "stdout",
          "output_type": "stream",
          "text": [
            "(1, 2, 3, 4, 5)\n",
            "3\n"
          ]
        },
        {
          "ename": "AttributeError",
          "evalue": "'tuple' object has no attribute 'append'",
          "output_type": "error",
          "traceback": [
            "\u001b[0;31m---------------------------------------------------------------------------\u001b[0m",
            "\u001b[0;31mAttributeError\u001b[0m                            Traceback (most recent call last)",
            "Cell \u001b[0;32mIn[25], line 9\u001b[0m\n\u001b[1;32m      5\u001b[0m \u001b[39mprint\u001b[39m(my_set)\n\u001b[1;32m      7\u001b[0m \u001b[39mprint\u001b[39m(my_set[\u001b[39m2\u001b[39m])\n\u001b[0;32m----> 9\u001b[0m my_set \u001b[39m=\u001b[39m my_set\u001b[39m.\u001b[39;49mappend(\u001b[39m6\u001b[39m)\n",
            "\u001b[0;31mAttributeError\u001b[0m: 'tuple' object has no attribute 'append'"
          ]
        }
      ],
      "source": [
        "# sets\n",
        "\n",
        "my_set = (1,2,3,4,5)\n",
        "\n",
        "print(my_set)\n",
        "\n",
        "print(my_set[2])\n",
        "\n",
        "my_set = my_set.append(6)"
      ]
    },
    {
      "cell_type": "code",
      "execution_count": null,
      "metadata": {
        "id": "EHu0Hw2n1pQA",
        "outputId": "578756b4-2b78-45a4-c815-05793d494d6a"
      },
      "outputs": [
        {
          "name": "stdout",
          "output_type": "stream",
          "text": [
            "a is not equal to b\n",
            "a + b = c\n"
          ]
        }
      ],
      "source": [
        "## If/else and elif\n",
        "\n",
        "# Initialize two variables\n",
        "a = 10\n",
        "b = 20\n",
        "c = 30\n",
        "\n",
        "# Compare if a is equal to b\n",
        "if a == b:\n",
        "    print(\"a is equal to b\")\n",
        "else:\n",
        "    print(\"a is not equal to b\")  # This will be printed\n",
        "\n",
        "# Compare if a is not equal to b\n",
        "if a == b:\n",
        "    print(\"a is equal to b\")\n",
        "elif a + b == c:\n",
        "    print(\"a + b = c\") # This will be printed\n",
        "else:\n",
        "    print(\"something else is true\")"
      ]
    },
    {
      "cell_type": "code",
      "execution_count": null,
      "metadata": {
        "id": "0RsnghlJ1pQA",
        "outputId": "4c890589-de7d-4582-f0f4-f3b27141f3cb"
      },
      "outputs": [
        {
          "name": "stdout",
          "output_type": "stream",
          "text": [
            "['anna', 'ben', 'charlie', 'david', 'ellie', 'fred', 'fred']\n"
          ]
        }
      ],
      "source": [
        "print(my_string_list)"
      ]
    },
    {
      "cell_type": "code",
      "execution_count": null,
      "metadata": {
        "id": "nwjYXl4M1pQB",
        "outputId": "a6ef59ca-118e-47ef-8557-44de33a29048"
      },
      "outputs": [
        {
          "name": "stdout",
          "output_type": "stream",
          "text": [
            "1\n",
            "2\n",
            "3\n",
            "4\n",
            "5\n",
            "6\n",
            "7\n",
            "8\n",
            "9\n",
            "10\n",
            "10\n",
            "anna\n",
            "ben\n",
            "charlie\n",
            "david\n",
            "ellie\n",
            "fred\n",
            "fred\n"
          ]
        }
      ],
      "source": [
        "# for loops\n",
        "\n",
        "for i in my_list:\n",
        "    print(i)\n",
        "\n",
        "for i in my_string_list:\n",
        "    print(i)"
      ]
    },
    {
      "cell_type": "code",
      "execution_count": null,
      "metadata": {
        "id": "Le2-UfIP1pQB",
        "outputId": "c7927dbd-3a3e-465f-8341-bd5393e59d7a"
      },
      "outputs": [
        {
          "name": "stdout",
          "output_type": "stream",
          "text": [
            "9\n",
            "8\n",
            "7\n",
            "6\n",
            "5\n",
            "4\n",
            "3\n",
            "2\n",
            "1\n",
            "0\n",
            "a is too small now\n"
          ]
        }
      ],
      "source": [
        "# while loops\n",
        "\n",
        "a = 10\n",
        "\n",
        "while a > 0:\n",
        "    a-=1\n",
        "    print(a)\n",
        "else:\n",
        "    print(\"a is too small now\")"
      ]
    }
  ],
  "metadata": {
    "kernelspec": {
      "display_name": "Python 3",
      "language": "python",
      "name": "python3"
    },
    "language_info": {
      "codemirror_mode": {
        "name": "ipython",
        "version": 3
      },
      "file_extension": ".py",
      "mimetype": "text/x-python",
      "name": "python",
      "nbconvert_exporter": "python",
      "pygments_lexer": "ipython3",
      "version": "3.11.5"
    },
    "orig_nbformat": 4,
    "colab": {
      "provenance": []
    }
  },
  "nbformat": 4,
  "nbformat_minor": 0
}